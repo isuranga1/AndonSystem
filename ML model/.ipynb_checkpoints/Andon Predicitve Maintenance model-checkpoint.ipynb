{
 "cells": [
  {
   "cell_type": "code",
   "execution_count": 165,
   "id": "b57a39e5-5bb4-4e99-a7bc-6cfda398c536",
   "metadata": {},
   "outputs": [],
   "source": [
    "# for array computations and loading data\n",
    "import numpy as np\n",
    "import matplotlib.pyplot as plt\n",
    "import pandas as pd\n",
    "import copy\n",
    "import math\n",
    "from sklearn.model_selection import train_test_split"
   ]
  },
  {
   "cell_type": "code",
   "execution_count": 166,
   "id": "61982a5b-3853-4b98-bce2-909a62e18b43",
   "metadata": {},
   "outputs": [],
   "source": [
    "def plot_dataset(x, y, title):\n",
    "    plt.rcParams[\"figure.figsize\"] = (12,8)\n",
    "    plt.rcParams[\"lines.markersize\"] = 12\n",
    "    plt.scatter(x, y, marker='x', c='r'); \n",
    "    plt.title(title)\n",
    "    plt.xlabel(\"x\"); \n",
    "    plt.ylabel(\"y\"); \n",
    "    plt.show()"
   ]
  },
  {
   "cell_type": "code",
   "execution_count": 167,
   "id": "8111ebb3-f201-49a2-a30e-34c1031b8ccd",
   "metadata": {},
   "outputs": [],
   "source": [
    "\n",
    "def prepare_dataset(x,y): \n",
    "    # Get 60% of the dataset as the training set. Put the remaining 40% in temporary variables.\n",
    "    x_train, x_, y_train, y_ = train_test_split(x, y, test_size=0.40, random_state=80)\n",
    "\n",
    "    # Split the 40% subset above into two: one half for cross validation and the other for the test set\n",
    "    x_cv, x_test, y_cv, y_test = train_test_split(x_, y_, test_size=0.50, random_state=80)\n",
    "    \n",
    "    return x_train, y_train, x_cv, y_cv, x_test, y_test"
   ]
  },
  {
   "cell_type": "code",
   "execution_count": 168,
   "id": "c945a524-9a8a-4464-8e12-a14efebfbdab",
   "metadata": {},
   "outputs": [],
   "source": [
    "def compute_gradient_logistic(X, y, w, b): \n",
    "    \"\"\"\n",
    "    Computes the gradient for logistic regression \n",
    " \n",
    "    Args:\n",
    "      X (ndarray (m,n): Data, m examples with n features\n",
    "      y (ndarray (m,)): target values\n",
    "      w (ndarray (n,)): model parameters  \n",
    "      b (scalar)      : model parameter\n",
    "    Returns\n",
    "      dj_dw (ndarray (n,)): The gradient of the cost w.r.t. the parameters w. \n",
    "      dj_db (scalar)      : The gradient of the cost w.r.t. the parameter b. \n",
    "    \"\"\"\n",
    "    m = X.shape[0]\n",
    "    dj_dw = 0                          #(n,)\n",
    "    dj_db = 0.\n",
    "\n",
    "    for i in range(m):\n",
    "        f_wb_i = sigmoid(np.dot(X[i],w) + b)          \n",
    "        err_i  = f_wb_i  - y[i]                       #scalar\n",
    "        dj_dw = dj_dw + err_i * X[i]                  #scalar\n",
    "        dj_db = dj_db + err_i\n",
    "    dj_dw = dj_dw/m                                   #(n,)\n",
    "    dj_db = dj_db/m                                   \n",
    "        \n",
    "    return dj_db, dj_dw  "
   ]
  },
  {
   "cell_type": "code",
   "execution_count": 169,
   "id": "ca1e49b6-586b-4e8f-be72-3452911a28ad",
   "metadata": {},
   "outputs": [],
   "source": [
    "def sigmoid(x):\n",
    "    g=1/(1+np.exp(-x))\n",
    "    return g"
   ]
  },
  {
   "cell_type": "code",
   "execution_count": 170,
   "id": "67de2183-a79e-434e-a53c-9596a53aef96",
   "metadata": {},
   "outputs": [],
   "source": [
    "def gradient_descent(X, y, w_in, b_in, alpha, num_iters): \n",
    "    \"\"\"\n",
    "    Performs batch gradient descent\n",
    "    \n",
    "    Args:\n",
    "      X (ndarray (m,n)   : Data, m examples with n features\n",
    "      y (ndarray (m,))   : target values\n",
    "      w_in (ndarray (n,)): Initial values of model parameters  \n",
    "      b_in (scalar)      : Initial values of model parameter\n",
    "      alpha (float)      : Learning rate\n",
    "      num_iters (scalar) : number of iterations to run gradient descent\n",
    "      \n",
    "    Returns:\n",
    "      w (ndarray (n,))   : Updated values of parameters\n",
    "      b (scalar)         : Updated value of parameter \n",
    "    \"\"\"\n",
    "    # An array to store cost J and w's at each iteration primarily for graphing later\n",
    "    J_history = []\n",
    "    w = copy.deepcopy(w_in)  #avoid modifying global w within function\n",
    "    b = b_in\n",
    "    \n",
    "    for i in range(num_iters):\n",
    "        # Calculate the gradient and update the parameters\n",
    "        dj_db, dj_dw = compute_gradient_logistic(X, y, w, b)   \n",
    "\n",
    "        # Update Parameters using w, b, alpha and gradient\n",
    "        w = w - alpha * dj_dw               \n",
    "        b = b - alpha * dj_db               \n",
    "      \n",
    "        # Save cost J at each iteration\n",
    "        if i<100000:      # prevent resource exhaustion \n",
    "            J_history.append( compute_cost_logistic(X, y, w, b) )\n",
    "\n",
    "        # Print cost every at intervals 10 times or as many iterations if < 10\n",
    "        if (i % 100) == 0:\n",
    "         print(f\"Iteration {i:4d}: Cost {J_history[-1]}   \")\n",
    "        \n",
    "    return w, b, J_history         #return final w,b and J history for graphing\n"
   ]
  },
  {
   "cell_type": "code",
   "execution_count": 171,
   "id": "62abef38-850f-41b2-986b-96575d64b8cc",
   "metadata": {},
   "outputs": [],
   "source": [
    "\n",
    "def compute_cost_logistic(X, y, w, b):\n",
    "    \"\"\"\n",
    "    Computes cost using logistic loss, non-matrix version\n",
    "\n",
    "    Args:\n",
    "      X (ndarray): Shape (m,n)  matrix of examples with n features\n",
    "      y (ndarray): Shape (m,)   target values\n",
    "      w (ndarray): Shape (n,)   parameters for prediction\n",
    "      b (scalar):               parameter  for prediction\n",
    "      lambda_ : (scalar, float) Controls amount of regularization, 0 = no regularization\n",
    "      safe : (boolean)          True-selects under/overflow safe algorithm\n",
    "    Returns:\n",
    "      cost (scalar): cost\n",
    "    \"\"\"\n",
    "\n",
    "    m = X.shape[0]\n",
    "    cost = 0.0\n",
    "    for i in range(m):\n",
    "        z_i    = X[i]*w + b                                             #(n,)(n,) or (n,) ()\n",
    "        f_wb_i = sigmoid(z_i)                                                   #(n,)\n",
    "        cost  += -y[i] * np.log(f_wb_i) - (1 - y[i]) * np.log(1 - f_wb_i)       # scalar\n",
    "    cost = cost/m\n",
    "\n",
    "    return cost"
   ]
  },
  {
   "cell_type": "code",
   "execution_count": 172,
   "id": "52ac17b3-533b-4621-a321-37e85ce8b01d",
   "metadata": {},
   "outputs": [],
   "source": [
    "# Load the CSV file\n",
    "file_path = 'shuffled_file.csv' # Update the path with the correct CSV file path\n",
    "df = pd.read_csv(file_path)\n",
    "x = df['Tool wear [min]'].to_numpy()\n",
    "x = np.array(x, dtype=np.float64)/100\n",
    "y = df['Machine failure'].to_numpy()\n",
    "y = np.array(y, dtype=np.float64)\n",
    "x_train, y_train, x_cv, y_cv, x_test, y_test=prepare_dataset(x,y)"
   ]
  },
  {
   "cell_type": "code",
   "execution_count": 173,
   "id": "cff64906-4b77-4df8-888b-7768ba5e926a",
   "metadata": {},
   "outputs": [
    {
     "name": "stdout",
     "output_type": "stream",
     "text": [
      "(57212,) (57212,) (19071,) (19071,)\n"
     ]
    }
   ],
   "source": [
    "print(x_train.shape,y_train.shape,x_cv.shape,y_cv.shape,)"
   ]
  },
  {
   "cell_type": "code",
   "execution_count": 184,
   "id": "9fe279e5-8e36-47f4-a99f-b791b260f364",
   "metadata": {},
   "outputs": [
    {
     "name": "stdout",
     "output_type": "stream",
     "text": [
      "Iteration    0: Cost 0.7122772126036401   \n"
     ]
    },
    {
     "ename": "KeyboardInterrupt",
     "evalue": "",
     "output_type": "error",
     "traceback": [
      "\u001b[1;31m---------------------------------------------------------------------------\u001b[0m",
      "\u001b[1;31mKeyboardInterrupt\u001b[0m                         Traceback (most recent call last)",
      "Cell \u001b[1;32mIn[184], line 6\u001b[0m\n\u001b[0;32m      3\u001b[0m alph \u001b[38;5;241m=\u001b[39m \u001b[38;5;241m0.1\u001b[39m\n\u001b[0;32m      4\u001b[0m iters \u001b[38;5;241m=\u001b[39m \u001b[38;5;241m1000\u001b[39m\n\u001b[1;32m----> 6\u001b[0m w_out, b_out, _ \u001b[38;5;241m=\u001b[39m \u001b[43mgradient_descent\u001b[49m\u001b[43m(\u001b[49m\u001b[43mx_train\u001b[49m\u001b[43m,\u001b[49m\u001b[43m \u001b[49m\u001b[43my_train\u001b[49m\u001b[43m,\u001b[49m\u001b[43m \u001b[49m\u001b[43mw_tmp\u001b[49m\u001b[43m,\u001b[49m\u001b[43m \u001b[49m\u001b[43mb_tmp\u001b[49m\u001b[43m,\u001b[49m\u001b[43m \u001b[49m\u001b[43malph\u001b[49m\u001b[43m,\u001b[49m\u001b[43m \u001b[49m\u001b[43miters\u001b[49m\u001b[43m)\u001b[49m \n\u001b[0;32m      7\u001b[0m \u001b[38;5;28mprint\u001b[39m(\u001b[38;5;124mf\u001b[39m\u001b[38;5;124m\"\u001b[39m\u001b[38;5;130;01m\\n\u001b[39;00m\u001b[38;5;124mupdated parameters: w:\u001b[39m\u001b[38;5;132;01m{\u001b[39;00mw_out\u001b[38;5;132;01m}\u001b[39;00m\u001b[38;5;124m, b:\u001b[39m\u001b[38;5;132;01m{\u001b[39;00mb_out\u001b[38;5;132;01m}\u001b[39;00m\u001b[38;5;124m\"\u001b[39m)\n",
      "Cell \u001b[1;32mIn[170], line 24\u001b[0m, in \u001b[0;36mgradient_descent\u001b[1;34m(X, y, w_in, b_in, alpha, num_iters)\u001b[0m\n\u001b[0;32m     20\u001b[0m b \u001b[38;5;241m=\u001b[39m b_in\n\u001b[0;32m     22\u001b[0m \u001b[38;5;28;01mfor\u001b[39;00m i \u001b[38;5;129;01min\u001b[39;00m \u001b[38;5;28mrange\u001b[39m(num_iters):\n\u001b[0;32m     23\u001b[0m     \u001b[38;5;66;03m# Calculate the gradient and update the parameters\u001b[39;00m\n\u001b[1;32m---> 24\u001b[0m     dj_db, dj_dw \u001b[38;5;241m=\u001b[39m \u001b[43mcompute_gradient_logistic\u001b[49m\u001b[43m(\u001b[49m\u001b[43mX\u001b[49m\u001b[43m,\u001b[49m\u001b[43m \u001b[49m\u001b[43my\u001b[49m\u001b[43m,\u001b[49m\u001b[43m \u001b[49m\u001b[43mw\u001b[49m\u001b[43m,\u001b[49m\u001b[43m \u001b[49m\u001b[43mb\u001b[49m\u001b[43m)\u001b[49m   \n\u001b[0;32m     26\u001b[0m     \u001b[38;5;66;03m# Update Parameters using w, b, alpha and gradient\u001b[39;00m\n\u001b[0;32m     27\u001b[0m     w \u001b[38;5;241m=\u001b[39m w \u001b[38;5;241m-\u001b[39m alpha \u001b[38;5;241m*\u001b[39m dj_dw               \n",
      "Cell \u001b[1;32mIn[168], line 19\u001b[0m, in \u001b[0;36mcompute_gradient_logistic\u001b[1;34m(X, y, w, b)\u001b[0m\n\u001b[0;32m     16\u001b[0m dj_db \u001b[38;5;241m=\u001b[39m \u001b[38;5;241m0.\u001b[39m\n\u001b[0;32m     18\u001b[0m \u001b[38;5;28;01mfor\u001b[39;00m i \u001b[38;5;129;01min\u001b[39;00m \u001b[38;5;28mrange\u001b[39m(m):\n\u001b[1;32m---> 19\u001b[0m     f_wb_i \u001b[38;5;241m=\u001b[39m sigmoid(\u001b[43mnp\u001b[49m\u001b[38;5;241;43m.\u001b[39;49m\u001b[43mdot\u001b[49m\u001b[43m(\u001b[49m\u001b[43mX\u001b[49m\u001b[43m[\u001b[49m\u001b[43mi\u001b[49m\u001b[43m]\u001b[49m\u001b[43m,\u001b[49m\u001b[43mw\u001b[49m\u001b[43m)\u001b[49m \u001b[38;5;241m+\u001b[39m b)          \n\u001b[0;32m     20\u001b[0m     err_i  \u001b[38;5;241m=\u001b[39m f_wb_i  \u001b[38;5;241m-\u001b[39m y[i]                       \u001b[38;5;66;03m#scalar\u001b[39;00m\n\u001b[0;32m     21\u001b[0m     dj_dw \u001b[38;5;241m=\u001b[39m dj_dw \u001b[38;5;241m+\u001b[39m err_i \u001b[38;5;241m*\u001b[39m X[i]                  \u001b[38;5;66;03m#scalar\u001b[39;00m\n",
      "\u001b[1;31mKeyboardInterrupt\u001b[0m: "
     ]
    }
   ],
   "source": [
    "w_tmp  = 0.1\n",
    "b_tmp  = 0.1\n",
    "alph = 0.1\n",
    "iters = 1000\n",
    "\n",
    "w_out, b_out, _ = gradient_descent(x_train, y_train, w_tmp, b_tmp, alph, iters) \n",
    "print(f\"\\nupdated parameters: w:{w_out}, b:{b_out}\")"
   ]
  },
  {
   "cell_type": "code",
   "execution_count": 174,
   "id": "f80ef5a5-b9ba-46a8-8788-b84eb871d754",
   "metadata": {},
   "outputs": [],
   "source": [
    "def predict(x_in,w_out, b_out):\n",
    "    y_out=sigmoid(w_out*x_in+b_out)\n",
    "    return y_out"
   ]
  },
  {
   "cell_type": "code",
   "execution_count": 175,
   "id": "5e1dd879-e9d0-428b-b231-3eb39c551811",
   "metadata": {},
   "outputs": [],
   "source": [
    "def Threshold(y_out):\n",
    "    threshold=0.5\n",
    "    m=y_out.shape[0]\n",
    "    for i in range(m):\n",
    "        if (y_out[i]>=threshold):\n",
    "            y_out[i]=1\n",
    "        else:\n",
    "            y_out[i]=0\n",
    "    return y_out        "
   ]
  },
  {
   "cell_type": "code",
   "execution_count": 179,
   "id": "5f1412a1-d86b-456e-927d-0580a48b9b6a",
   "metadata": {},
   "outputs": [],
   "source": [
    "def Accuracy(x_test,y_test):\n",
    "    accuracy=0\n",
    "    m=x_test.shape[0]\n",
    "    y_predict=predict(x_test,w_out,b_out)\n",
    "    y_predict=Threshold(y_predict)\n",
    "    for i in range(m):\n",
    "        if (y_predict[i]==y_test[i]):\n",
    "            accuracy+=1\n",
    "    accuracy=accuracy/m\n",
    "    return accuracy\n",
    "            \n",
    "                                                \n",
    "    "
   ]
  },
  {
   "cell_type": "code",
   "execution_count": null,
   "id": "dd1bfa02-2b67-496b-a8ad-4f04d035edde",
   "metadata": {},
   "outputs": [],
   "source": [
    "\n",
    "    "
   ]
  },
  {
   "cell_type": "code",
   "execution_count": 121,
   "id": "843aad6f-5392-4f21-a8d6-3a8c5bd2ee3c",
   "metadata": {},
   "outputs": [
    {
     "name": "stdout",
     "output_type": "stream",
     "text": [
      "[1. 1. 0.]\n"
     ]
    }
   ],
   "source": [
    "Threshold(y_out)"
   ]
  },
  {
   "cell_type": "code",
   "execution_count": 128,
   "id": "bd88e655-9ac0-4283-8fcb-67effe276461",
   "metadata": {},
   "outputs": [
    {
     "name": "stdout",
     "output_type": "stream",
     "text": [
      "0.9940223375806198\n"
     ]
    }
   ],
   "source": [
    "print(Accuracy(x_test,y_test))"
   ]
  },
  {
   "cell_type": "code",
   "execution_count": 185,
   "id": "9810ed58-eb13-4e31-a817-1f15dfc05bb0",
   "metadata": {},
   "outputs": [],
   "source": [
    "def learningcurve(x,y):\n",
    "    w_tmp  = 0.1\n",
    "    b_tmp  = 0.1\n",
    "    alpha = 0.1\n",
    "    iters = 100\n",
    "    train_mses=[]\n",
    "    cv_mses=[]\n",
    "    accuracys=[]\n",
    "    train_sizes = np.linspace(0.1, 1.0, 10)\n",
    "\n",
    "    for i in train_sizes:\n",
    "        # Determine subset size\n",
    "        subset_size = int(i * len(x))\n",
    "        \n",
    "        # Subset the training data\n",
    "        x_subset = x[:subset_size]\n",
    "        y_subset = y[:subset_size]\n",
    "        x_train, y_train, x_cv, y_cv, x_test, y_test=prepare_dataset(x_subset,y_subset)\n",
    "        print(f\"training subset{10*i}\")\n",
    "        w_out, b_out,train_cost_history = gradient_descent(x_train, y_train, w_tmp,  b_tmp, alpha,iters)\n",
    "        train_cost=train_cost_history[-1]\n",
    "        train_mses.append(train_cost)\n",
    "        cv_mse = compute_cost_logistic(x_cv,y_cv,w_out,b_out)\n",
    "        cv_mses.append(cv_mse)\n",
    "        accuracy = Accuracy(x_test,y_test)\n",
    "        accuracys.append(accuracy)\n",
    "    return train_mses,cv_mses,accuracys\n",
    "        "
   ]
  },
  {
   "cell_type": "code",
   "execution_count": 186,
   "id": "b1bb3ff3-c601-49aa-b0da-ad2867ac94c8",
   "metadata": {},
   "outputs": [
    {
     "name": "stdout",
     "output_type": "stream",
     "text": [
      "training subset1.0\n",
      "Iteration    0: Cost 0.712928660943876   \n",
      "training subset2.0\n",
      "Iteration    0: Cost 0.7127226591773922   \n",
      "training subset3.0000000000000004\n",
      "Iteration    0: Cost 0.7135822583221925   \n",
      "training subset4.0\n",
      "Iteration    0: Cost 0.7124780858874051   \n",
      "training subset5.0\n",
      "Iteration    0: Cost 0.7126135322666197   \n",
      "training subset6.0\n",
      "Iteration    0: Cost 0.7124811926086289   \n",
      "training subset7.000000000000001\n",
      "Iteration    0: Cost 0.7129125385978271   \n",
      "training subset8.0\n",
      "Iteration    0: Cost 0.7128767164200138   \n",
      "training subset9.0\n",
      "Iteration    0: Cost 0.7125477982623658   \n",
      "training subset10.0\n",
      "Iteration    0: Cost 0.7122772126036401   \n"
     ]
    }
   ],
   "source": [
    "train_mses,cv_mses,accuracys=learningcurve(x,y)"
   ]
  },
  {
   "cell_type": "code",
   "execution_count": 189,
   "id": "9ac7a50e-ff09-4ba9-b1b1-039748b39c4f",
   "metadata": {},
   "outputs": [
    {
     "data": {
      "image/png": "[encoded data removed]",
      "text/plain": [
       "<Figure size 1000x600 with 1 Axes>"
      ]
     },
     "metadata": {},
     "output_type": "display_data"
    }
   ],
   "source": [
    "train_sizes = np.linspace(0.1, 1.0, 10)        # Plot learning curve\n",
    "plt.figure(figsize=(10, 6))\n",
    "plt.plot(train_sizes, train_mses, label='training mean square error', marker='o')\n",
    "plt.plot(train_sizes, cv_mses, label='cross validation mean square error', marker='s')\n",
    "plt.plot(train_sizes, accuracys, label='accuracy', marker='^')\n",
    "plt.xlabel('Training Set Size (Fraction)')\n",
    "plt.ylabel('Mean Square Error')\n",
    "plt.title('Learning Curve')\n",
    "plt.legend()\n",
    "plt.grid(True)\n",
    "plt.show()"
   ]
  },
  {
   "cell_type": "code",
   "execution_count": null,
   "id": "8d8b1ffd-7d2e-4d53-a7e5-2084210c0a65",
   "metadata": {},
   "outputs": [],
   "source": []
  }
 ],
 "metadata": {
  "kernelspec": {
   "display_name": "Python 3 (ipykernel)",
   "language": "python",
   "name": "python3"
  },
  "language_info": {
   "codemirror_mode": {
    "name": "ipython",
    "version": 3
   },
   "file_extension": ".py",
   "mimetype": "text/x-python",
   "name": "python",
   "nbconvert_exporter": "python",
   "pygments_lexer": "ipython3",
   "version": "3.12.1"
  }
 },
 "nbformat": 4,
 "nbformat_minor": 5
}
